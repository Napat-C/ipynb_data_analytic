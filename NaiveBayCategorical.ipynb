{
 "cells": [
  {
   "cell_type": "code",
   "execution_count": 14,
   "id": "03564dc6-48f6-400a-bc30-7edcde6733ba",
   "metadata": {},
   "outputs": [],
   "source": [
    "import numpy as np \n",
    "import pandas as pd\n",
    "import matplotlib.pyplot as plt\n",
    "\n",
    "from sklearn import datasets\n",
    "from sklearn.model_selection import train_test_split\n",
    "from sklearn.naive_bayes import CategoricalNB\n",
    "from sklearn.metrics import accuracy_score, confusion_matrix\n",
    "from sklearn.preprocessing import LabelEncoder, OrdinalEncoder"
   ]
  },
  {
   "cell_type": "code",
   "execution_count": 15,
   "id": "dc4670b5-9330-4ab6-8d5b-53825a0ba7f7",
   "metadata": {},
   "outputs": [],
   "source": [
    "url = \"https://archive.ics.uci.edu/ml/machine-learning-databases/car/car.data\"\n",
    "cols = [\"buying\",\"maintenance\", \"doors\", \"passengers\",\"lug_boot\", \"safety\", \"class\"]"
   ]
  },
  {
   "cell_type": "code",
   "execution_count": 16,
   "id": "066482dc-6384-44f3-a72f-e24cfb010831",
   "metadata": {},
   "outputs": [
    {
     "data": {
      "text/html": [
       "<div>\n",
       "<style scoped>\n",
       "    .dataframe tbody tr th:only-of-type {\n",
       "        vertical-align: middle;\n",
       "    }\n",
       "\n",
       "    .dataframe tbody tr th {\n",
       "        vertical-align: top;\n",
       "    }\n",
       "\n",
       "    .dataframe thead th {\n",
       "        text-align: right;\n",
       "    }\n",
       "</style>\n",
       "<table border=\"1\" class=\"dataframe\">\n",
       "  <thead>\n",
       "    <tr style=\"text-align: right;\">\n",
       "      <th></th>\n",
       "      <th>buying</th>\n",
       "      <th>maintenance</th>\n",
       "      <th>doors</th>\n",
       "      <th>passengers</th>\n",
       "      <th>lug_boot</th>\n",
       "      <th>safety</th>\n",
       "      <th>class</th>\n",
       "    </tr>\n",
       "  </thead>\n",
       "  <tbody>\n",
       "    <tr>\n",
       "      <th>1413</th>\n",
       "      <td>low</td>\n",
       "      <td>high</td>\n",
       "      <td>2</td>\n",
       "      <td>4</td>\n",
       "      <td>small</td>\n",
       "      <td>low</td>\n",
       "      <td>unacc</td>\n",
       "    </tr>\n",
       "    <tr>\n",
       "      <th>302</th>\n",
       "      <td>vhigh</td>\n",
       "      <td>med</td>\n",
       "      <td>5more</td>\n",
       "      <td>2</td>\n",
       "      <td>med</td>\n",
       "      <td>high</td>\n",
       "      <td>unacc</td>\n",
       "    </tr>\n",
       "    <tr>\n",
       "      <th>1060</th>\n",
       "      <td>med</td>\n",
       "      <td>high</td>\n",
       "      <td>5more</td>\n",
       "      <td>2</td>\n",
       "      <td>big</td>\n",
       "      <td>med</td>\n",
       "      <td>unacc</td>\n",
       "    </tr>\n",
       "    <tr>\n",
       "      <th>134</th>\n",
       "      <td>vhigh</td>\n",
       "      <td>high</td>\n",
       "      <td>2</td>\n",
       "      <td>more</td>\n",
       "      <td>big</td>\n",
       "      <td>high</td>\n",
       "      <td>unacc</td>\n",
       "    </tr>\n",
       "    <tr>\n",
       "      <th>811</th>\n",
       "      <td>high</td>\n",
       "      <td>low</td>\n",
       "      <td>4</td>\n",
       "      <td>2</td>\n",
       "      <td>small</td>\n",
       "      <td>med</td>\n",
       "      <td>unacc</td>\n",
       "    </tr>\n",
       "  </tbody>\n",
       "</table>\n",
       "</div>"
      ],
      "text/plain": [
       "     buying maintenance  doors passengers lug_boot safety  class\n",
       "1413    low        high      2          4    small    low  unacc\n",
       "302   vhigh         med  5more          2      med   high  unacc\n",
       "1060    med        high  5more          2      big    med  unacc\n",
       "134   vhigh        high      2       more      big   high  unacc\n",
       "811    high         low      4          2    small    med  unacc"
      ]
     },
     "execution_count": 16,
     "metadata": {},
     "output_type": "execute_result"
    }
   ],
   "source": [
    "df = pd.read_csv(url, names = cols )\n",
    "df.sample(5)"
   ]
  },
  {
   "cell_type": "markdown",
   "id": "fbbc556f-ce1f-476c-8b3b-e055582f7a26",
   "metadata": {},
   "source": [
    "## select data"
   ]
  },
  {
   "cell_type": "code",
   "execution_count": 17,
   "id": "6130424a-47cc-4479-8b0c-72fd059fadd8",
   "metadata": {},
   "outputs": [],
   "source": [
    "feature = [\"buying\",\"maintenance\",\"lug_boot\", \"safety\"]\n",
    "df_feature = df[feature]"
   ]
  },
  {
   "cell_type": "code",
   "execution_count": 20,
   "id": "26756948-70ed-4de7-bcdd-21aceb975218",
   "metadata": {},
   "outputs": [],
   "source": [
    "df_class = df[[\"class\"]]"
   ]
  },
  {
   "cell_type": "markdown",
   "id": "09342428-066b-4cd6-ba1d-9a34f28484cd",
   "metadata": {},
   "source": [
    "## encode string data to numerical"
   ]
  },
  {
   "cell_type": "code",
   "execution_count": 21,
   "id": "8c4699a7-cc0a-4418-8268-416ce4632661",
   "metadata": {},
   "outputs": [],
   "source": [
    "encoder_feature = OrdinalEncoder() \n",
    "encoder_class = LabelEncoder()\n",
    "\n",
    "encoded_feature = encoder_feature.fit_transform(df_feature)\n",
    "encoded_class = encoder_feature.fit_transform(df_class)"
   ]
  },
  {
   "cell_type": "code",
   "execution_count": 23,
   "id": "037cef13-4df7-4ee1-b932-a4e553465e87",
   "metadata": {},
   "outputs": [
    {
     "data": {
      "text/plain": [
       "array([[3., 3., 2., 1.],\n",
       "       [3., 3., 2., 2.],\n",
       "       [3., 3., 2., 0.],\n",
       "       [3., 3., 1., 1.]])"
      ]
     },
     "execution_count": 23,
     "metadata": {},
     "output_type": "execute_result"
    }
   ],
   "source": [
    "encoded_feature[0:4]"
   ]
  },
  {
   "cell_type": "code",
   "execution_count": 25,
   "id": "4fe379ac-687f-40f8-af49-4d34eb189e0a",
   "metadata": {},
   "outputs": [
    {
     "data": {
      "text/plain": [
       "unacc    1210\n",
       "acc       384\n",
       "good       69\n",
       "vgood      65\n",
       "Name: class, dtype: int64"
      ]
     },
     "execution_count": 25,
     "metadata": {},
     "output_type": "execute_result"
    }
   ],
   "source": [
    "df[\"class\"].value_counts()"
   ]
  },
  {
   "cell_type": "code",
   "execution_count": 28,
   "id": "7e2e3f2f-0eb6-44ca-a7aa-3c1a7355e265",
   "metadata": {},
   "outputs": [
    {
     "data": {
      "text/html": [
       "<div>\n",
       "<style scoped>\n",
       "    .dataframe tbody tr th:only-of-type {\n",
       "        vertical-align: middle;\n",
       "    }\n",
       "\n",
       "    .dataframe tbody tr th {\n",
       "        vertical-align: top;\n",
       "    }\n",
       "\n",
       "    .dataframe thead th {\n",
       "        text-align: right;\n",
       "    }\n",
       "</style>\n",
       "<table border=\"1\" class=\"dataframe\">\n",
       "  <thead>\n",
       "    <tr style=\"text-align: right;\">\n",
       "      <th></th>\n",
       "      <th>buying</th>\n",
       "      <th>maintenance</th>\n",
       "      <th>lug_boot</th>\n",
       "      <th>safety</th>\n",
       "      <th>class</th>\n",
       "    </tr>\n",
       "  </thead>\n",
       "  <tbody>\n",
       "    <tr>\n",
       "      <th>1551</th>\n",
       "      <td>1.0</td>\n",
       "      <td>2.0</td>\n",
       "      <td>1.0</td>\n",
       "      <td>1.0</td>\n",
       "      <td>2.0</td>\n",
       "    </tr>\n",
       "    <tr>\n",
       "      <th>1169</th>\n",
       "      <td>2.0</td>\n",
       "      <td>2.0</td>\n",
       "      <td>0.0</td>\n",
       "      <td>0.0</td>\n",
       "      <td>2.0</td>\n",
       "    </tr>\n",
       "    <tr>\n",
       "      <th>838</th>\n",
       "      <td>0.0</td>\n",
       "      <td>1.0</td>\n",
       "      <td>2.0</td>\n",
       "      <td>2.0</td>\n",
       "      <td>2.0</td>\n",
       "    </tr>\n",
       "    <tr>\n",
       "      <th>698</th>\n",
       "      <td>0.0</td>\n",
       "      <td>2.0</td>\n",
       "      <td>1.0</td>\n",
       "      <td>0.0</td>\n",
       "      <td>0.0</td>\n",
       "    </tr>\n",
       "    <tr>\n",
       "      <th>986</th>\n",
       "      <td>2.0</td>\n",
       "      <td>0.0</td>\n",
       "      <td>1.0</td>\n",
       "      <td>0.0</td>\n",
       "      <td>0.0</td>\n",
       "    </tr>\n",
       "  </tbody>\n",
       "</table>\n",
       "</div>"
      ],
      "text/plain": [
       "      buying  maintenance  lug_boot  safety  class\n",
       "1551     1.0          2.0       1.0     1.0    2.0\n",
       "1169     2.0          2.0       0.0     0.0    2.0\n",
       "838      0.0          1.0       2.0     2.0    2.0\n",
       "698      0.0          2.0       1.0     0.0    0.0\n",
       "986      2.0          0.0       1.0     0.0    0.0"
      ]
     },
     "execution_count": 28,
     "metadata": {},
     "output_type": "execute_result"
    }
   ],
   "source": [
    "encoded_df = pd.DataFrame(encoded_feature, columns = feature)\n",
    "encoded_df[\"class\"] = encoded_class\n",
    "encoded_df.sample(5)"
   ]
  },
  {
   "cell_type": "code",
   "execution_count": 29,
   "id": "efee0deb-2809-421e-8cc2-1a6a2e515037",
   "metadata": {},
   "outputs": [],
   "source": [
    "X_train,X_test,Y_train,Y_test = train_test_split(encoded_df.iloc[:,:-1], encoded_df.iloc[:,-1], test_size = 0.2)"
   ]
  },
  {
   "cell_type": "code",
   "execution_count": 32,
   "id": "9a5b8387-7d26-4559-865c-d5df6db3f611",
   "metadata": {},
   "outputs": [
    {
     "data": {
      "text/plain": [
       "((1382, 4), (346, 4), (1382,), (346,))"
      ]
     },
     "execution_count": 32,
     "metadata": {},
     "output_type": "execute_result"
    }
   ],
   "source": [
    "X_train.shape,X_test.shape,Y_train.shape,Y_test.shape"
   ]
  },
  {
   "cell_type": "code",
   "execution_count": 33,
   "id": "46e11680-1542-4486-a79b-cb5236f7b7a0",
   "metadata": {},
   "outputs": [],
   "source": [
    "NB_Categorica = CategoricalNB()"
   ]
  },
  {
   "cell_type": "code",
   "execution_count": 34,
   "id": "f521f056-c1d3-4c93-9fe7-3c98d8cf2479",
   "metadata": {},
   "outputs": [
    {
     "data": {
      "text/plain": [
       "CategoricalNB()"
      ]
     },
     "execution_count": 34,
     "metadata": {},
     "output_type": "execute_result"
    }
   ],
   "source": [
    "NB_Categorica .fit(X_train, Y_train)"
   ]
  },
  {
   "cell_type": "code",
   "execution_count": 35,
   "id": "af8f4df5-fc86-42a3-9229-781957dd9566",
   "metadata": {},
   "outputs": [],
   "source": [
    "y_predict = NB_Categorica.predict(X_test) "
   ]
  },
  {
   "cell_type": "code",
   "execution_count": 36,
   "id": "19e6dbe4-0b9f-4397-b749-e4543dc34206",
   "metadata": {},
   "outputs": [
    {
     "data": {
      "text/plain": [
       "array([[  9,   0,  74,   0],\n",
       "       [  0,   2,   9,   0],\n",
       "       [  6,   5, 219,   4],\n",
       "       [ 12,   1,   1,   4]], dtype=int64)"
      ]
     },
     "execution_count": 36,
     "metadata": {},
     "output_type": "execute_result"
    }
   ],
   "source": [
    "confusion_matrix(Y_test, y_predict)"
   ]
  },
  {
   "cell_type": "code",
   "execution_count": 38,
   "id": "d4f67fb5-3df2-4eae-874c-bd9155f95bf3",
   "metadata": {},
   "outputs": [
    {
     "data": {
      "text/plain": [
       "0.6763005780346821"
      ]
     },
     "execution_count": 38,
     "metadata": {},
     "output_type": "execute_result"
    }
   ],
   "source": [
    "accuracy_score(Y_test, y_predict)"
   ]
  },
  {
   "cell_type": "code",
   "execution_count": null,
   "id": "22c73801-bb49-4e0a-b0c4-e8ee542285b4",
   "metadata": {},
   "outputs": [],
   "source": []
  }
 ],
 "metadata": {
  "kernelspec": {
   "display_name": "Python 3",
   "language": "python",
   "name": "python3"
  },
  "language_info": {
   "codemirror_mode": {
    "name": "ipython",
    "version": 3
   },
   "file_extension": ".py",
   "mimetype": "text/x-python",
   "name": "python",
   "nbconvert_exporter": "python",
   "pygments_lexer": "ipython3",
   "version": "3.8.8"
  }
 },
 "nbformat": 4,
 "nbformat_minor": 5
}
