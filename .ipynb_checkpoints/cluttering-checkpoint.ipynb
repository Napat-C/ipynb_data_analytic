{
 "cells": [
  {
   "cell_type": "code",
   "execution_count": 4,
   "id": "fc4b7277-6634-4454-afc3-276c67d9bcf6",
   "metadata": {},
   "outputs": [],
   "source": [
    "import numpy as np \n",
    "import pandas as pd\n",
    "from sklearn.cluster import KMeans, DBSCAN, AgglomerativeClustering \n",
    "import matplotlib.pyplot as plt\n"
   ]
  },
  {
   "cell_type": "markdown",
   "id": "94bbb314-6e11-4942-9bf9-fd162f4885c5",
   "metadata": {},
   "source": [
    "## Data"
   ]
  },
  {
   "cell_type": "code",
   "execution_count": 8,
   "id": "de3de818-4b93-4fba-8330-d0ea9d318b69",
   "metadata": {},
   "outputs": [
    {
     "data": {
      "text/plain": [
       "<matplotlib.collections.PathCollection at 0x1c34297bd00>"
      ]
     },
     "execution_count": 8,
     "metadata": {},
     "output_type": "execute_result"
    },
    {
     "data": {
      "image/png": "[encoded data removed]",
      "text/plain": [
       "<Figure size 432x288 with 1 Axes>"
      ]
     },
     "metadata": {
      "needs_background": "light"
     },
     "output_type": "display_data"
    }
   ],
   "source": [
    "np.random.seed(0)\n",
    "data = np.random.randint(0,20, (100,2))\n",
    "plt.scatter(data[:,0], data[:,1])"
   ]
  },
  {
   "cell_type": "markdown",
   "id": "c03e0c60-b7f2-472e-a249-cc941c6fc4f6",
   "metadata": {},
   "source": [
    "## K-MEAN"
   ]
  },
  {
   "cell_type": "code",
   "execution_count": 9,
   "id": "8811f276-94d8-439e-a3ee-09b7b095367b",
   "metadata": {},
   "outputs": [],
   "source": [
    "kmean = KMeans(n_clusters=4)"
   ]
  },
  {
   "cell_type": "code",
   "execution_count": 10,
   "id": "d43af23f-ff56-4028-874c-2ee3b02ea4e4",
   "metadata": {},
   "outputs": [
    {
     "data": {
      "text/plain": [
       "KMeans(n_clusters=4)"
      ]
     },
     "execution_count": 10,
     "metadata": {},
     "output_type": "execute_result"
    }
   ],
   "source": [
    "kmean.fit(data)"
   ]
  },
  {
   "cell_type": "code",
   "execution_count": 11,
   "id": "6992b267-2214-4d7d-9b23-5524e9ccc805",
   "metadata": {},
   "outputs": [
    {
     "data": {
      "text/plain": [
       "array([[ 5.42307692, 13.53846154],\n",
       "       [14.67857143,  4.39285714],\n",
       "       [14.68181818, 14.68181818],\n",
       "       [ 3.70833333,  2.58333333]])"
      ]
     },
     "execution_count": 11,
     "metadata": {},
     "output_type": "execute_result"
    }
   ],
   "source": [
    "kmean.cluster_centers_"
   ]
  },
  {
   "cell_type": "code",
   "execution_count": 12,
   "id": "709c8447-a1a9-4a67-a87f-2b89ea07b307",
   "metadata": {},
   "outputs": [
    {
     "data": {
      "text/plain": [
       "array([2, 3, 3, 0, 1, 0, 3, 0, 1, 1, 0, 2, 0, 1, 1, 2, 2, 1, 3, 3, 1, 2,\n",
       "       3, 3, 3, 0, 1, 0, 3, 0, 3, 2, 1, 1, 2, 1, 3, 1, 1, 0, 1, 2, 2, 0,\n",
       "       3, 3, 2, 3, 1, 0, 2, 0, 0, 2, 3, 3, 2, 0, 2, 3, 0, 1, 1, 2, 3, 0,\n",
       "       2, 1, 1, 3, 2, 1, 0, 3, 0, 1, 3, 2, 2, 2, 2, 1, 3, 3, 1, 1, 1, 2,\n",
       "       0, 0, 0, 1, 0, 3, 0, 0, 0, 1, 1, 0])"
      ]
     },
     "execution_count": 12,
     "metadata": {},
     "output_type": "execute_result"
    }
   ],
   "source": [
    "kmean.labels_"
   ]
  },
  {
   "cell_type": "code",
   "execution_count": 13,
   "id": "c0ec8b11-b58f-41d7-807f-9b6578d63106",
   "metadata": {},
   "outputs": [],
   "source": [
    "df = pd.DataFrame(columns = ['x','y','label'])\n",
    "df['x'] = data[:,0]\n",
    "df['y'] = data[:,1]\n",
    "df['label'] = kmean.labels_"
   ]
  },
  {
   "cell_type": "code",
   "execution_count": 14,
   "id": "b798b46b-35bb-4080-aaf9-8cc847d5ee0b",
   "metadata": {
    "collapsed": true,
    "jupyter": {
     "outputs_hidden": true
    },
    "tags": []
   },
   "outputs": [
    {
     "data": {
      "text/html": [
       "<div>\n",
       "<style scoped>\n",
       "    .dataframe tbody tr th:only-of-type {\n",
       "        vertical-align: middle;\n",
       "    }\n",
       "\n",
       "    .dataframe tbody tr th {\n",
       "        vertical-align: top;\n",
       "    }\n",
       "\n",
       "    .dataframe thead th {\n",
       "        text-align: right;\n",
       "    }\n",
       "</style>\n",
       "<table border=\"1\" class=\"dataframe\">\n",
       "  <thead>\n",
       "    <tr style=\"text-align: right;\">\n",
       "      <th></th>\n",
       "      <th>x</th>\n",
       "      <th>y</th>\n",
       "      <th>label</th>\n",
       "    </tr>\n",
       "  </thead>\n",
       "  <tbody>\n",
       "    <tr>\n",
       "      <th>0</th>\n",
       "      <td>12</td>\n",
       "      <td>15</td>\n",
       "      <td>2</td>\n",
       "    </tr>\n",
       "    <tr>\n",
       "      <th>1</th>\n",
       "      <td>0</td>\n",
       "      <td>3</td>\n",
       "      <td>3</td>\n",
       "    </tr>\n",
       "    <tr>\n",
       "      <th>2</th>\n",
       "      <td>3</td>\n",
       "      <td>7</td>\n",
       "      <td>3</td>\n",
       "    </tr>\n",
       "    <tr>\n",
       "      <th>3</th>\n",
       "      <td>9</td>\n",
       "      <td>19</td>\n",
       "      <td>0</td>\n",
       "    </tr>\n",
       "    <tr>\n",
       "      <th>4</th>\n",
       "      <td>18</td>\n",
       "      <td>4</td>\n",
       "      <td>1</td>\n",
       "    </tr>\n",
       "    <tr>\n",
       "      <th>...</th>\n",
       "      <td>...</td>\n",
       "      <td>...</td>\n",
       "      <td>...</td>\n",
       "    </tr>\n",
       "    <tr>\n",
       "      <th>95</th>\n",
       "      <td>0</td>\n",
       "      <td>11</td>\n",
       "      <td>0</td>\n",
       "    </tr>\n",
       "    <tr>\n",
       "      <th>96</th>\n",
       "      <td>8</td>\n",
       "      <td>10</td>\n",
       "      <td>0</td>\n",
       "    </tr>\n",
       "    <tr>\n",
       "      <th>97</th>\n",
       "      <td>11</td>\n",
       "      <td>5</td>\n",
       "      <td>1</td>\n",
       "    </tr>\n",
       "    <tr>\n",
       "      <th>98</th>\n",
       "      <td>15</td>\n",
       "      <td>8</td>\n",
       "      <td>1</td>\n",
       "    </tr>\n",
       "    <tr>\n",
       "      <th>99</th>\n",
       "      <td>2</td>\n",
       "      <td>19</td>\n",
       "      <td>0</td>\n",
       "    </tr>\n",
       "  </tbody>\n",
       "</table>\n",
       "<p>100 rows × 3 columns</p>\n",
       "</div>"
      ],
      "text/plain": [
       "     x   y  label\n",
       "0   12  15      2\n",
       "1    0   3      3\n",
       "2    3   7      3\n",
       "3    9  19      0\n",
       "4   18   4      1\n",
       "..  ..  ..    ...\n",
       "95   0  11      0\n",
       "96   8  10      0\n",
       "97  11   5      1\n",
       "98  15   8      1\n",
       "99   2  19      0\n",
       "\n",
       "[100 rows x 3 columns]"
      ]
     },
     "execution_count": 14,
     "metadata": {},
     "output_type": "execute_result"
    }
   ],
   "source": [
    "df"
   ]
  },
  {
   "cell_type": "code",
   "execution_count": 21,
   "id": "b467f834-42d2-4933-a267-186d2fdbd246",
   "metadata": {},
   "outputs": [
    {
     "data": {
      "text/plain": [
       "<matplotlib.collections.PathCollection at 0x1c3444c0f40>"
      ]
     },
     "execution_count": 21,
     "metadata": {},
     "output_type": "execute_result"
    },
    {
     "data": {
      "image/png": "[encoded data removed]",
      "text/plain": [
       "<Figure size 432x288 with 2 Axes>"
      ]
     },
     "metadata": {
      "needs_background": "light"
     },
     "output_type": "display_data"
    }
   ],
   "source": [
    "df.plot(kind = 'scatter', x = 'x', y = 'y', c = 'label', cmap = 'cool')\n",
    "plt.scatter(kmean.cluster_centers_[:,0],kmean.cluster_centers_[:,1], marker='*', s = [200,200,200,200])"
   ]
  },
  {
   "cell_type": "markdown",
   "id": "c4a1654a-bbd0-481e-bdff-df672434907f",
   "metadata": {},
   "source": [
    "## DBSCAN"
   ]
  },
  {
   "cell_type": "code",
   "execution_count": 30,
   "id": "0f4e5294-c633-45b1-93b1-48f76647bfb1",
   "metadata": {},
   "outputs": [],
   "source": [
    "dbscan = DBSCAN(eps=2, min_samples=5)"
   ]
  },
  {
   "cell_type": "code",
   "execution_count": 31,
   "id": "dba16936-745d-423e-a623-ffa259848037",
   "metadata": {},
   "outputs": [
    {
     "data": {
      "text/plain": [
       "DBSCAN(eps=2)"
      ]
     },
     "execution_count": 31,
     "metadata": {},
     "output_type": "execute_result"
    }
   ],
   "source": [
    "dbscan.fit(data)"
   ]
  },
  {
   "cell_type": "code",
   "execution_count": 32,
   "id": "b114ca6a-9cdf-4388-965a-d71f1a435585",
   "metadata": {},
   "outputs": [
    {
     "data": {
      "text/plain": [
       "array([ 7, -1,  3,  6, -1, -1,  3, -1, -1,  0,  6, -1, -1, -1,  2, -1, -1,\n",
       "        0,  1, -1,  4,  7,  1, -1,  3,  6,  2, -1,  1,  5,  3,  7, -1,  2,\n",
       "        0,  4, -1,  2,  4, -1,  2,  0, -1,  5,  1, -1, -1,  1,  2, -1,  7,\n",
       "        5, -1, -1,  1,  1, -1, -1, -1, -1,  5,  0,  4, -1,  1,  6,  0, -1,\n",
       "        2,  1, -1,  0,  6, -1, -1, -1,  1,  0,  0,  7, -1, -1, -1,  3,  0,\n",
       "        0, -1,  0, -1, -1, -1,  2, -1,  1,  5, -1, -1,  4,  0, -1],\n",
       "      dtype=int64)"
      ]
     },
     "execution_count": 32,
     "metadata": {},
     "output_type": "execute_result"
    }
   ],
   "source": [
    "dbscan.labels_"
   ]
  },
  {
   "cell_type": "code",
   "execution_count": 33,
   "id": "c1f4f463-a140-4344-8901-cf0dafcf9cd4",
   "metadata": {},
   "outputs": [
    {
     "data": {
      "text/html": [
       "<div>\n",
       "<style scoped>\n",
       "    .dataframe tbody tr th:only-of-type {\n",
       "        vertical-align: middle;\n",
       "    }\n",
       "\n",
       "    .dataframe tbody tr th {\n",
       "        vertical-align: top;\n",
       "    }\n",
       "\n",
       "    .dataframe thead th {\n",
       "        text-align: right;\n",
       "    }\n",
       "</style>\n",
       "<table border=\"1\" class=\"dataframe\">\n",
       "  <thead>\n",
       "    <tr style=\"text-align: right;\">\n",
       "      <th></th>\n",
       "      <th>x</th>\n",
       "      <th>y</th>\n",
       "      <th>label</th>\n",
       "      <th>label_DB</th>\n",
       "    </tr>\n",
       "  </thead>\n",
       "  <tbody>\n",
       "    <tr>\n",
       "      <th>0</th>\n",
       "      <td>12</td>\n",
       "      <td>15</td>\n",
       "      <td>2</td>\n",
       "      <td>7</td>\n",
       "    </tr>\n",
       "    <tr>\n",
       "      <th>1</th>\n",
       "      <td>0</td>\n",
       "      <td>3</td>\n",
       "      <td>3</td>\n",
       "      <td>-1</td>\n",
       "    </tr>\n",
       "    <tr>\n",
       "      <th>2</th>\n",
       "      <td>3</td>\n",
       "      <td>7</td>\n",
       "      <td>3</td>\n",
       "      <td>3</td>\n",
       "    </tr>\n",
       "    <tr>\n",
       "      <th>3</th>\n",
       "      <td>9</td>\n",
       "      <td>19</td>\n",
       "      <td>0</td>\n",
       "      <td>6</td>\n",
       "    </tr>\n",
       "    <tr>\n",
       "      <th>4</th>\n",
       "      <td>18</td>\n",
       "      <td>4</td>\n",
       "      <td>1</td>\n",
       "      <td>-1</td>\n",
       "    </tr>\n",
       "    <tr>\n",
       "      <th>...</th>\n",
       "      <td>...</td>\n",
       "      <td>...</td>\n",
       "      <td>...</td>\n",
       "      <td>...</td>\n",
       "    </tr>\n",
       "    <tr>\n",
       "      <th>95</th>\n",
       "      <td>0</td>\n",
       "      <td>11</td>\n",
       "      <td>0</td>\n",
       "      <td>-1</td>\n",
       "    </tr>\n",
       "    <tr>\n",
       "      <th>96</th>\n",
       "      <td>8</td>\n",
       "      <td>10</td>\n",
       "      <td>0</td>\n",
       "      <td>-1</td>\n",
       "    </tr>\n",
       "    <tr>\n",
       "      <th>97</th>\n",
       "      <td>11</td>\n",
       "      <td>5</td>\n",
       "      <td>1</td>\n",
       "      <td>4</td>\n",
       "    </tr>\n",
       "    <tr>\n",
       "      <th>98</th>\n",
       "      <td>15</td>\n",
       "      <td>8</td>\n",
       "      <td>1</td>\n",
       "      <td>0</td>\n",
       "    </tr>\n",
       "    <tr>\n",
       "      <th>99</th>\n",
       "      <td>2</td>\n",
       "      <td>19</td>\n",
       "      <td>0</td>\n",
       "      <td>-1</td>\n",
       "    </tr>\n",
       "  </tbody>\n",
       "</table>\n",
       "<p>100 rows × 4 columns</p>\n",
       "</div>"
      ],
      "text/plain": [
       "     x   y  label  label_DB\n",
       "0   12  15      2         7\n",
       "1    0   3      3        -1\n",
       "2    3   7      3         3\n",
       "3    9  19      0         6\n",
       "4   18   4      1        -1\n",
       "..  ..  ..    ...       ...\n",
       "95   0  11      0        -1\n",
       "96   8  10      0        -1\n",
       "97  11   5      1         4\n",
       "98  15   8      1         0\n",
       "99   2  19      0        -1\n",
       "\n",
       "[100 rows x 4 columns]"
      ]
     },
     "execution_count": 33,
     "metadata": {},
     "output_type": "execute_result"
    }
   ],
   "source": [
    "df['label_DB'] = dbscan.labels_\n",
    "df"
   ]
  },
  {
   "cell_type": "code",
   "execution_count": 34,
   "id": "bc2111b2-2f8c-4c14-a563-3efefcd4d18b",
   "metadata": {},
   "outputs": [
    {
     "data": {
      "text/plain": [
       "<matplotlib.legend.Legend at 0x1c345703dc0>"
      ]
     },
     "execution_count": 34,
     "metadata": {},
     "output_type": "execute_result"
    },
    {
     "data": {
      "image/png": "[encoded data removed]",
      "text/plain": [
       "<Figure size 432x288 with 1 Axes>"
      ]
     },
     "metadata": {
      "needs_background": "light"
     },
     "output_type": "display_data"
    }
   ],
   "source": [
    "groups = df.groupby('label_DB')\n",
    "for name,group in groups:\n",
    "    plt.plot(group[\"x\"], group[\"y\"], marker = \"o\", linestyle =\"\", label = name)\n",
    "plt.legend()"
   ]
  },
  {
   "cell_type": "markdown",
   "id": "27235be0-63d1-4e76-92c4-833cc854d27d",
   "metadata": {},
   "source": [
    "## AgglomerativeClustering "
   ]
  },
  {
   "cell_type": "code",
   "execution_count": 38,
   "id": "2c1efad4-9942-4213-957a-11a0f2b896cf",
   "metadata": {},
   "outputs": [],
   "source": [
    "Agg = AgglomerativeClustering (n_clusters=4)"
   ]
  },
  {
   "cell_type": "code",
   "execution_count": 39,
   "id": "615a9be6-fed9-478d-9ce4-5bf0bdf0b765",
   "metadata": {},
   "outputs": [
    {
     "data": {
      "text/plain": [
       "AgglomerativeClustering(n_clusters=4)"
      ]
     },
     "execution_count": 39,
     "metadata": {},
     "output_type": "execute_result"
    }
   ],
   "source": [
    "Agg.fit(data)"
   ]
  },
  {
   "cell_type": "code",
   "execution_count": 40,
   "id": "8b4bca00-fbe5-47c6-8428-20964e8a2ddf",
   "metadata": {},
   "outputs": [
    {
     "data": {
      "text/plain": [
       "array([1, 2, 2, 0, 3, 0, 2, 0, 3, 1, 0, 1, 0, 3, 3, 1, 1, 1, 2, 3, 3, 0,\n",
       "       2, 2, 2, 0, 3, 0, 2, 0, 2, 1, 3, 3, 1, 3, 2, 3, 3, 0, 3, 1, 1, 0,\n",
       "       2, 2, 1, 2, 3, 0, 1, 0, 0, 1, 2, 2, 1, 0, 1, 3, 0, 1, 3, 1, 2, 0,\n",
       "       1, 1, 3, 2, 1, 1, 0, 3, 0, 3, 2, 1, 1, 1, 1, 3, 3, 2, 1, 1, 1, 1,\n",
       "       0, 0, 0, 3, 1, 2, 0, 0, 0, 3, 1, 0], dtype=int64)"
      ]
     },
     "execution_count": 40,
     "metadata": {},
     "output_type": "execute_result"
    }
   ],
   "source": [
    "Agg.labels_"
   ]
  },
  {
   "cell_type": "code",
   "execution_count": 41,
   "id": "2d365269-246b-4b49-ba2c-16198826348f",
   "metadata": {},
   "outputs": [
    {
     "name": "stderr",
     "output_type": "stream",
     "text": [
      "C:\\Users\\NapatCota\\anaconda3\\lib\\site-packages\\matplotlib\\text.py:1165: FutureWarning: elementwise comparison failed; returning scalar instead, but in the future will perform elementwise comparison\n",
      "  if s != self._text:\n"
     ]
    },
    {
     "data": {
      "image/png": "[encoded data removed]",
      "text/plain": [
       "<Figure size 1080x504 with 1 Axes>"
      ]
     },
     "metadata": {
      "needs_background": "light"
     },
     "output_type": "display_data"
    }
   ],
   "source": [
    "from scipy.cluster.hierarchy import dendrogram, linkage\n",
    "\n",
    "linked = linkage(data, 'single')\n",
    "label_list = data\n",
    "plt.figure(figsize=(15,7))\n",
    "dendrogram(linked, orientation= 'top', labels= label_list, distance_sort= 'descending', show_leaf_counts= True)\n",
    "plt.show()"
   ]
  },
  {
   "cell_type": "code",
   "execution_count": 42,
   "id": "57bf5f47-ea8b-4cbe-832a-d4f02fd2ddae",
   "metadata": {},
   "outputs": [
    {
     "data": {
      "text/plain": [
       "1"
      ]
     },
     "execution_count": 42,
     "metadata": {},
     "output_type": "execute_result"
    }
   ],
   "source": [
    "int(1.6)"
   ]
  },
  {
   "cell_type": "code",
   "execution_count": 43,
   "id": "649f22c8-48a7-4139-87fd-d0775ca4a42f",
   "metadata": {},
   "outputs": [
    {
     "name": "stdout",
     "output_type": "stream",
     "text": [
      "[2, 4, 6, 8, 10]\n"
     ]
    }
   ],
   "source": [
    "nums = [1,2,3,4,5,6,7,8,9,10]\n",
    "\n",
    "x = 0\n",
    "\n",
    "res = []\n",
    "\n",
    "while (x < 10):\n",
    "    if nums[x]%2 == 0:\n",
    "        res.append(nums[x])\n",
    "    x = x+1\n",
    "\n",
    "print(res)"
   ]
  },
  {
   "cell_type": "code",
   "execution_count": 46,
   "id": "32561891-114e-4fc5-9cfe-56ac71b64038",
   "metadata": {},
   "outputs": [
    {
     "data": {
      "text/plain": [
       "0"
      ]
     },
     "execution_count": 46,
     "metadata": {},
     "output_type": "execute_result"
    }
   ],
   "source": []
  },
  {
   "cell_type": "code",
   "execution_count": null,
   "id": "8227abfd-b91a-4b8d-9777-416e3f0f9262",
   "metadata": {},
   "outputs": [],
   "source": []
  }
 ],
 "metadata": {
  "kernelspec": {
   "display_name": "Python 3",
   "language": "python",
   "name": "python3"
  },
  "language_info": {
   "codemirror_mode": {
    "name": "ipython",
    "version": 3
   },
   "file_extension": ".py",
   "mimetype": "text/x-python",
   "name": "python",
   "nbconvert_exporter": "python",
   "pygments_lexer": "ipython3",
   "version": "3.8.8"
  }
 },
 "nbformat": 4,
 "nbformat_minor": 5
}
