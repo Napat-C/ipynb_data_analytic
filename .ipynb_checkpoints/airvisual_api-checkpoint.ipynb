{
 "cells": [
  {
   "cell_type": "code",
   "execution_count": 12,
   "id": "d93822ff-c0cc-4f57-bf49-9e5e843d635e",
   "metadata": {
    "tags": []
   },
   "outputs": [],
   "source": [
    "import requests\n",
    "import json\n",
    "import mysql.connector\n",
    "import pandas as pd\n",
    "from datetime import datetime\n"
   ]
  },
  {
   "cell_type": "code",
   "execution_count": 2,
   "id": "6f05665b-60a4-44fe-b9b0-add5d4ee6d3e",
   "metadata": {},
   "outputs": [
    {
     "name": "stdout",
     "output_type": "stream",
     "text": [
      "{'status': 'success', 'data': [{'country': 'Afghanistan'}, {'country': 'Algeria'}, {'country': 'Andorra'}, {'country': 'Angola'}, {'country': 'Argentina'}, {'country': 'Armenia'}, {'country': 'Australia'}, {'country': 'Austria'}, {'country': 'Bahamas'}, {'country': 'Bahrain'}, {'country': 'Bangladesh'}, {'country': 'Belgium'}, {'country': 'Bolivia'}, {'country': 'Bosnia Herzegovina'}, {'country': 'Brazil'}, {'country': 'Brunei'}, {'country': 'Bulgaria'}, {'country': 'Canada'}, {'country': 'Chile'}, {'country': 'China'}, {'country': 'Colombia'}, {'country': 'Croatia'}, {'country': 'Cyprus'}, {'country': 'Czech Republic'}, {'country': 'Democratic Republic of the Congo'}, {'country': 'Denmark'}, {'country': 'Ecuador'}, {'country': 'Ethiopia'}, {'country': 'Finland'}, {'country': 'France'}, {'country': 'Germany'}, {'country': 'Ghana'}, {'country': 'Guatemala'}, {'country': 'Hong Kong SAR'}, {'country': 'Hungary'}, {'country': 'India'}, {'country': 'Indonesia'}, {'country': 'Iran'}, {'country': 'Iraq'}, {'country': 'Ireland'}, {'country': 'Israel'}, {'country': 'Italy'}, {'country': 'Ivory Coast'}, {'country': 'Japan'}, {'country': 'Jordan'}, {'country': 'Kazakhstan'}, {'country': 'Kosovo'}, {'country': 'Kuwait'}, {'country': 'Kyrgyzstan'}, {'country': 'Latvia'}, {'country': 'Lithuania'}, {'country': 'Luxembourg'}, {'country': 'Macao SAR'}, {'country': 'Malaysia'}, {'country': 'Malta'}, {'country': 'Mexico'}, {'country': 'Mongolia'}, {'country': 'Myanmar'}, {'country': 'Nepal'}, {'country': 'Netherlands'}, {'country': 'New Caledonia'}, {'country': 'New Zealand'}, {'country': 'Nigeria'}, {'country': 'North Macedonia'}, {'country': 'Norway'}, {'country': 'Oman'}, {'country': 'Pakistan'}, {'country': 'Palestinian Territory'}, {'country': 'Peru'}, {'country': 'Philippines'}, {'country': 'Poland'}, {'country': 'Portugal'}, {'country': 'Puerto Rico'}, {'country': 'Romania'}, {'country': 'Russia'}, {'country': 'San Marino'}, {'country': 'Serbia'}, {'country': 'Singapore'}, {'country': 'Slovakia'}, {'country': 'Slovenia'}, {'country': 'South Africa'}, {'country': 'South Korea'}, {'country': 'Spain'}, {'country': 'Sri Lanka'}, {'country': 'Svalbard and Jan Mayen'}, {'country': 'Sweden'}, {'country': 'Switzerland'}, {'country': 'Syria'}, {'country': 'Taiwan'}, {'country': 'Thailand'}, {'country': 'Turkey'}, {'country': 'U.S. Virgin Islands'}, {'country': 'USA'}, {'country': 'Uganda'}, {'country': 'Ukraine'}, {'country': 'United Arab Emirates'}, {'country': 'United Kingdom'}, {'country': 'Uzbekistan'}, {'country': 'Vietnam'}, {'country': 'Yemen'}]}\n"
     ]
    }
   ],
   "source": [
    "# set API key variable\n",
    "api_key = '242e4e26-733b-4642-b1c7-c8bbb5781e4c'\n",
    "# use a formatted string for the request URL\n",
    "response_api = requests.get(f'http://api.airvisual.com/v2/countries?key={api_key}')\n",
    "# parse JSON data\n",
    "data = response_api.text\n",
    "parse_json = json.loads(data)\n",
    "print(parse_json)"
   ]
  },
  {
   "cell_type": "code",
   "execution_count": 3,
   "id": "7767c48e-62bf-4fe8-903b-f5346f21bebf",
   "metadata": {},
   "outputs": [
    {
     "name": "stdout",
     "output_type": "stream",
     "text": [
      "{'status': 'success', 'data': [{'state': 'Bangkok'}, {'state': 'Chachoengsao'}, {'state': 'Chiang Mai'}, {'state': 'Chiang Rai'}, {'state': 'Chon Buri'}, {'state': 'Kanchanaburi'}, {'state': 'Lampang'}, {'state': 'Loei'}, {'state': 'Mae Hong Son'}, {'state': 'Nakhon Ratchasima'}, {'state': 'Nakhon Sawan'}, {'state': 'Nan'}, {'state': 'Narathiwat'}, {'state': 'Nonthaburi'}, {'state': 'Phayao'}, {'state': 'Phra Nakhon Si Ayutthaya'}, {'state': 'Phrae'}, {'state': 'Phuket'}, {'state': 'Rayong'}, {'state': 'Samut Prakan'}, {'state': 'Samut Sakhon'}, {'state': 'Samut Songkhram'}, {'state': 'Sara Buri'}, {'state': 'Satun'}, {'state': 'Tak'}, {'state': 'Yala'}]}\n"
     ]
    }
   ],
   "source": [
    "# use a formatted string for the request URL\n",
    "response_api = requests.get(f'http://api.airvisual.com/v2/states?country=Thailand&key={api_key}')\n",
    "# parse JSON data\n",
    "data = response_api.text\n",
    "parse_json = json.loads(data)\n",
    "print(parse_json)"
   ]
  },
  {
   "cell_type": "code",
   "execution_count": 4,
   "id": "ae67bc9c-8aaf-4d0d-af08-eb4c81d84294",
   "metadata": {},
   "outputs": [
    {
     "name": "stdout",
     "output_type": "stream",
     "text": [
      "{\"status\":\"success\",\"data\":[{\"city\":\"Chiang Dao\"},{\"city\":\"Chiang Mai\"},{\"city\":\"Doi Saket\"},{\"city\":\"Hang Dong\"},{\"city\":\"Mae Chaem\"},{\"city\":\"Mae On\"},{\"city\":\"Mae Taeng\"},{\"city\":\"San Kamphaeng\"},{\"city\":\"San Sai\"}]}\n"
     ]
    }
   ],
   "source": [
    "# use a formatted string for the request URL\n",
    "response_api = requests.get(f'http://api.airvisual.com/v2/cities?state=Chiang Mai&country=Thailand&key={api_key}')\n",
    "# parse JSON data\n",
    "data = response_api.text\n",
    "print(data)"
   ]
  },
  {
   "cell_type": "code",
   "execution_count": 5,
   "id": "fc4b39ca-a749-46ae-848a-0f5dbcb60d30",
   "metadata": {},
   "outputs": [
    {
     "name": "stdout",
     "output_type": "stream",
     "text": [
      "{'status': 'success', 'data': [{'city': 'Chiang Dao'}, {'city': 'Chiang Mai'}, {'city': 'Doi Saket'}, {'city': 'Hang Dong'}, {'city': 'Mae Chaem'}, {'city': 'Mae On'}, {'city': 'Mae Taeng'}, {'city': 'San Kamphaeng'}, {'city': 'San Sai'}]}\n"
     ]
    }
   ],
   "source": [
    "# use a formatted string for the request URL\n",
    "response_api = requests.get(f'http://api.airvisual.com/v2/cities?state=Chiang Mai&country=Thailand&key={api_key}')\n",
    "# parse JSON data\n",
    "data = response_api.text\n",
    "parse_json = json.loads(data)\n",
    "print(parse_json)"
   ]
  },
  {
   "cell_type": "code",
   "execution_count": 6,
   "id": "94ffa437-c730-45ea-a7ae-648b2b341585",
   "metadata": {},
   "outputs": [],
   "source": [
    "# list of countries, states, and cities to grab data for\n",
    "locations = [\n",
    "    ('Thailand', 'Chiang Mai', 'Chiang Dao'),\n",
    "    ('Thailand', 'Chiang Mai', 'Chiang Mai'),\n",
    "    ('Thailand', 'Chiang Mai', 'Doi Saket'),\n",
    "    ('Thailand', 'Chiang Mai', 'Hang Dong'),\n",
    "    ('Thailand', 'Chiang Mai', 'Mae Chaem'),\n",
    "    ('Thailand', 'Chiang Mai', 'Mae On'),\n",
    "    ('Thailand', 'Chiang Mai', 'Mae Taeng'),\n",
    "    ('Thailand', 'Chiang Mai', 'San Kamphaeng'),\n",
    "    ('Thailand', 'Chiang Mai', 'San Sai')\n",
    "]"
   ]
  },
  {
   "cell_type": "code",
   "execution_count": 10,
   "id": "38974408-b463-4322-b6ec-d6d85b50c0ac",
   "metadata": {},
   "outputs": [],
   "source": [
    "all_pollution_data = []\n",
    "for location in locations:\n",
    "    country = location[0]\n",
    "    state = location[1]\n",
    "    city = location[2]\n",
    "\n",
    "    response_api = requests.get(\n",
    "        f'http://api.airvisual.com/v2/city?city={city}&state={state}&country={country}&key={api_key}')\n",
    "    data = response_api.text\n",
    "    parse_json = json.loads(data)\n",
    "\n",
    "    # grab datetime\n",
    "    dt = datetime.now().strftime(\"%Y-%m-%d %H:%M:%S\")\n",
    "\n",
    "    # grab weather data\n",
    "    weather = parse_json['data']['current']['weather']\n",
    "    temperature = weather['tp']\n",
    "    pressure = weather['pr']\n",
    "    humidity = weather['hu']\n",
    "    wind_speed = weather['ws']\n",
    "    wind_direction = weather['wd']\n",
    "    weather_data = [dt, country, state, city, temperature, pressure, humidity, wind_speed, wind_direction]\n",
    "\n",
    "    # grab pollution data\n",
    "    pollution = parse_json['data']['current']['pollution']\n",
    "    aqi_us = pollution['aqius']\n",
    "    aqi_cn = pollution['aqicn']\n",
    "    pollution_data = [dt, country, state, city, aqi_us, aqi_cn]\n",
    "    all_pollution_data.append(pollution_data)"
   ]
  },
  {
   "cell_type": "code",
   "execution_count": 11,
   "id": "992994ec-f2ac-427b-8a84-09c3e27aa6b1",
   "metadata": {},
   "outputs": [
    {
     "data": {
      "text/plain": [
       "[['2022-04-18 11:52:46', 'Thailand', 'Chiang Mai', 'Chiang Dao', 111, 56],\n",
       " ['2022-04-18 11:52:46', 'Thailand', 'Chiang Mai', 'Chiang Mai', 122, 61],\n",
       " ['2022-04-18 11:52:46', 'Thailand', 'Chiang Mai', 'Doi Saket', 119, 60],\n",
       " ['2022-04-18 11:52:47', 'Thailand', 'Chiang Mai', 'Hang Dong', 151, 77],\n",
       " ['2022-04-18 11:52:47', 'Thailand', 'Chiang Mai', 'Mae Chaem', 119, 60],\n",
       " ['2022-04-18 11:52:47', 'Thailand', 'Chiang Mai', 'Mae On', 131, 66],\n",
       " ['2022-04-18 11:52:47', 'Thailand', 'Chiang Mai', 'Mae Taeng', 111, 56],\n",
       " ['2022-04-18 11:52:48', 'Thailand', 'Chiang Mai', 'San Kamphaeng', 126, 63],\n",
       " ['2022-04-18 11:52:48', 'Thailand', 'Chiang Mai', 'San Sai', 115, 58]]"
      ]
     },
     "execution_count": 11,
     "metadata": {},
     "output_type": "execute_result"
    }
   ],
   "source": [
    " all_pollution_data"
   ]
  },
  {
   "cell_type": "code",
   "execution_count": 13,
   "id": "bd0eac41-0966-4504-b6a1-7bf6a85afa28",
   "metadata": {},
   "outputs": [],
   "source": [
    "df = pd.DataFrame(data=all_pollution_data,columns=['date&time','country','province','district','aqi_us', 'aqi_cn'])"
   ]
  },
  {
   "cell_type": "code",
   "execution_count": 14,
   "id": "8375ad9b-48d3-4dc6-8862-23f9084a1cd4",
   "metadata": {},
   "outputs": [
    {
     "data": {
      "text/html": [
       "<div>\n",
       "<style scoped>\n",
       "    .dataframe tbody tr th:only-of-type {\n",
       "        vertical-align: middle;\n",
       "    }\n",
       "\n",
       "    .dataframe tbody tr th {\n",
       "        vertical-align: top;\n",
       "    }\n",
       "\n",
       "    .dataframe thead th {\n",
       "        text-align: right;\n",
       "    }\n",
       "</style>\n",
       "<table border=\"1\" class=\"dataframe\">\n",
       "  <thead>\n",
       "    <tr style=\"text-align: right;\">\n",
       "      <th></th>\n",
       "      <th>date&amp;time</th>\n",
       "      <th>country</th>\n",
       "      <th>province</th>\n",
       "      <th>district</th>\n",
       "      <th>aqi_us</th>\n",
       "      <th>aqi_cn</th>\n",
       "    </tr>\n",
       "  </thead>\n",
       "  <tbody>\n",
       "    <tr>\n",
       "      <th>0</th>\n",
       "      <td>2022-04-18 11:52:46</td>\n",
       "      <td>Thailand</td>\n",
       "      <td>Chiang Mai</td>\n",
       "      <td>Chiang Dao</td>\n",
       "      <td>111</td>\n",
       "      <td>56</td>\n",
       "    </tr>\n",
       "    <tr>\n",
       "      <th>1</th>\n",
       "      <td>2022-04-18 11:52:46</td>\n",
       "      <td>Thailand</td>\n",
       "      <td>Chiang Mai</td>\n",
       "      <td>Chiang Mai</td>\n",
       "      <td>122</td>\n",
       "      <td>61</td>\n",
       "    </tr>\n",
       "    <tr>\n",
       "      <th>2</th>\n",
       "      <td>2022-04-18 11:52:46</td>\n",
       "      <td>Thailand</td>\n",
       "      <td>Chiang Mai</td>\n",
       "      <td>Doi Saket</td>\n",
       "      <td>119</td>\n",
       "      <td>60</td>\n",
       "    </tr>\n",
       "    <tr>\n",
       "      <th>3</th>\n",
       "      <td>2022-04-18 11:52:47</td>\n",
       "      <td>Thailand</td>\n",
       "      <td>Chiang Mai</td>\n",
       "      <td>Hang Dong</td>\n",
       "      <td>151</td>\n",
       "      <td>77</td>\n",
       "    </tr>\n",
       "    <tr>\n",
       "      <th>4</th>\n",
       "      <td>2022-04-18 11:52:47</td>\n",
       "      <td>Thailand</td>\n",
       "      <td>Chiang Mai</td>\n",
       "      <td>Mae Chaem</td>\n",
       "      <td>119</td>\n",
       "      <td>60</td>\n",
       "    </tr>\n",
       "    <tr>\n",
       "      <th>5</th>\n",
       "      <td>2022-04-18 11:52:47</td>\n",
       "      <td>Thailand</td>\n",
       "      <td>Chiang Mai</td>\n",
       "      <td>Mae On</td>\n",
       "      <td>131</td>\n",
       "      <td>66</td>\n",
       "    </tr>\n",
       "    <tr>\n",
       "      <th>6</th>\n",
       "      <td>2022-04-18 11:52:47</td>\n",
       "      <td>Thailand</td>\n",
       "      <td>Chiang Mai</td>\n",
       "      <td>Mae Taeng</td>\n",
       "      <td>111</td>\n",
       "      <td>56</td>\n",
       "    </tr>\n",
       "    <tr>\n",
       "      <th>7</th>\n",
       "      <td>2022-04-18 11:52:48</td>\n",
       "      <td>Thailand</td>\n",
       "      <td>Chiang Mai</td>\n",
       "      <td>San Kamphaeng</td>\n",
       "      <td>126</td>\n",
       "      <td>63</td>\n",
       "    </tr>\n",
       "    <tr>\n",
       "      <th>8</th>\n",
       "      <td>2022-04-18 11:52:48</td>\n",
       "      <td>Thailand</td>\n",
       "      <td>Chiang Mai</td>\n",
       "      <td>San Sai</td>\n",
       "      <td>115</td>\n",
       "      <td>58</td>\n",
       "    </tr>\n",
       "  </tbody>\n",
       "</table>\n",
       "</div>"
      ],
      "text/plain": [
       "             date&time   country    province       district  aqi_us  aqi_cn\n",
       "0  2022-04-18 11:52:46  Thailand  Chiang Mai     Chiang Dao     111      56\n",
       "1  2022-04-18 11:52:46  Thailand  Chiang Mai     Chiang Mai     122      61\n",
       "2  2022-04-18 11:52:46  Thailand  Chiang Mai      Doi Saket     119      60\n",
       "3  2022-04-18 11:52:47  Thailand  Chiang Mai      Hang Dong     151      77\n",
       "4  2022-04-18 11:52:47  Thailand  Chiang Mai      Mae Chaem     119      60\n",
       "5  2022-04-18 11:52:47  Thailand  Chiang Mai         Mae On     131      66\n",
       "6  2022-04-18 11:52:47  Thailand  Chiang Mai      Mae Taeng     111      56\n",
       "7  2022-04-18 11:52:48  Thailand  Chiang Mai  San Kamphaeng     126      63\n",
       "8  2022-04-18 11:52:48  Thailand  Chiang Mai        San Sai     115      58"
      ]
     },
     "execution_count": 14,
     "metadata": {},
     "output_type": "execute_result"
    }
   ],
   "source": [
    "df"
   ]
  },
  {
   "cell_type": "code",
   "execution_count": null,
   "id": "8e428bd2-5020-4989-9d08-5ef3e40867bf",
   "metadata": {},
   "outputs": [],
   "source": []
  }
 ],
 "metadata": {
  "kernelspec": {
   "display_name": "Python 3",
   "language": "python",
   "name": "python3"
  },
  "language_info": {
   "codemirror_mode": {
    "name": "ipython",
    "version": 3
   },
   "file_extension": ".py",
   "mimetype": "text/x-python",
   "name": "python",
   "nbconvert_exporter": "python",
   "pygments_lexer": "ipython3",
   "version": "3.8.8"
  }
 },
 "nbformat": 4,
 "nbformat_minor": 5
}
