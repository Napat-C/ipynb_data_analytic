{
 "cells": [
  {
   "cell_type": "markdown",
   "id": "bbd7ce00-d659-4053-a873-d558c4de28a9",
   "metadata": {},
   "source": [
    "## import library"
   ]
  },
  {
   "cell_type": "code",
   "execution_count": 28,
   "id": "a29a4ca9-c1d7-453d-9641-1dd1cc023058",
   "metadata": {},
   "outputs": [],
   "source": [
    "import numpy as np \n",
    "import pandas as pd\n",
    "import matplotlib.pyplot as plt\n",
    "from sklearn.linear_model import LinearRegression \n",
    "from sklearn.metrics import confusion_matrix, accuracy_score, r2_score, mean_squared_error\n"
   ]
  },
  {
   "cell_type": "markdown",
   "id": "2dcf8d34-9f80-4bf4-9772-3c6ff632b401",
   "metadata": {},
   "source": [
    "## data generation "
   ]
  },
  {
   "cell_type": "code",
   "execution_count": 6,
   "id": "87a4cc48-77e5-40ab-b671-b3da248846d2",
   "metadata": {
    "tags": []
   },
   "outputs": [],
   "source": [
    "np.random.seed(0)\n",
    "X = 5*np.random.rand(100,1)\n",
    "Y = 3*X+2+np.random.rand(100,1)"
   ]
  },
  {
   "cell_type": "code",
   "execution_count": 9,
   "id": "84010367-771e-470c-a868-e0418c42ecaa",
   "metadata": {},
   "outputs": [
    {
     "data": {
      "text/html": [
       "<div>\n",
       "<style scoped>\n",
       "    .dataframe tbody tr th:only-of-type {\n",
       "        vertical-align: middle;\n",
       "    }\n",
       "\n",
       "    .dataframe tbody tr th {\n",
       "        vertical-align: top;\n",
       "    }\n",
       "\n",
       "    .dataframe thead th {\n",
       "        text-align: right;\n",
       "    }\n",
       "</style>\n",
       "<table border=\"1\" class=\"dataframe\">\n",
       "  <thead>\n",
       "    <tr style=\"text-align: right;\">\n",
       "      <th></th>\n",
       "      <th>X</th>\n",
       "      <th>Y</th>\n",
       "    </tr>\n",
       "  </thead>\n",
       "  <tbody>\n",
       "    <tr>\n",
       "      <th>91</th>\n",
       "      <td>3.337052</td>\n",
       "      <td>12.220999</td>\n",
       "    </tr>\n",
       "    <tr>\n",
       "      <th>29</th>\n",
       "      <td>2.073310</td>\n",
       "      <td>8.510007</td>\n",
       "    </tr>\n",
       "    <tr>\n",
       "      <th>2</th>\n",
       "      <td>3.013817</td>\n",
       "      <td>11.776645</td>\n",
       "    </tr>\n",
       "  </tbody>\n",
       "</table>\n",
       "</div>"
      ],
      "text/plain": [
       "           X          Y\n",
       "91  3.337052  12.220999\n",
       "29  2.073310   8.510007\n",
       "2   3.013817  11.776645"
      ]
     },
     "execution_count": 9,
     "metadata": {},
     "output_type": "execute_result"
    }
   ],
   "source": [
    "df = pd.DataFrame()\n",
    "df['X'] = X.flatten().tolist()\n",
    "df['Y'] = Y.flatten().tolist()\n",
    "df.sample(3)"
   ]
  },
  {
   "cell_type": "code",
   "execution_count": 10,
   "id": "6a6111aa-0dc5-4894-8a6f-d19ff6785bc6",
   "metadata": {},
   "outputs": [
    {
     "data": {
      "text/plain": [
       "<AxesSubplot:xlabel='X', ylabel='Y'>"
      ]
     },
     "execution_count": 10,
     "metadata": {},
     "output_type": "execute_result"
    },
    {
     "data": {
      "image/png": "[encoded data removed]",
      "text/plain": [
       "<Figure size 432x288 with 1 Axes>"
      ]
     },
     "metadata": {
      "needs_background": "light"
     },
     "output_type": "display_data"
    }
   ],
   "source": [
    "df.plot(kind = 'scatter', x = 'X', y = 'Y', color = 'r')"
   ]
  },
  {
   "cell_type": "markdown",
   "id": "c242d040-e890-4541-aa6c-48a164445927",
   "metadata": {},
   "source": [
    "## Modeling"
   ]
  },
  {
   "cell_type": "code",
   "execution_count": 13,
   "id": "e1ea780b-8d2c-4d9e-9418-d5d573de6eff",
   "metadata": {},
   "outputs": [],
   "source": [
    "lin_model = LinearRegression()"
   ]
  },
  {
   "cell_type": "code",
   "execution_count": 17,
   "id": "a7efe586-74ca-4be5-a5bb-1935da563258",
   "metadata": {},
   "outputs": [
    {
     "data": {
      "text/plain": [
       "LinearRegression()"
      ]
     },
     "execution_count": 17,
     "metadata": {},
     "output_type": "execute_result"
    }
   ],
   "source": [
    "lin_model.fit(df[['X']], df['Y'])"
   ]
  },
  {
   "cell_type": "code",
   "execution_count": 18,
   "id": "0f326a9f-9b77-4eb1-8243-c356b95ced5e",
   "metadata": {},
   "outputs": [
    {
     "data": {
      "text/plain": [
       "(array([2.98731021]), 2.558080024157018)"
      ]
     },
     "execution_count": 18,
     "metadata": {},
     "output_type": "execute_result"
    }
   ],
   "source": [
    "lin_model.coef_, lin_model.intercept_"
   ]
  },
  {
   "cell_type": "code",
   "execution_count": 23,
   "id": "9b776c50-df86-4118-afcb-1be7be2233cc",
   "metadata": {},
   "outputs": [
    {
     "data": {
      "text/plain": [
       "[<matplotlib.lines.Line2D at 0x2a12aa06370>]"
      ]
     },
     "execution_count": 23,
     "metadata": {},
     "output_type": "execute_result"
    },
    {
     "data": {
      "image/png": "[encoded data removed]",
      "text/plain": [
       "<Figure size 864x576 with 1 Axes>"
      ]
     },
     "metadata": {
      "needs_background": "light"
     },
     "output_type": "display_data"
    }
   ],
   "source": [
    "fig , ax = plt.subplots(figsize = (12,8))\n",
    "df.plot(kind = 'scatter', x = 'X', y = 'Y', color = 'r', ax=ax)\n",
    "ax.plot(X, (lin_model.coef_*X + lin_model.intercept_))"
   ]
  },
  {
   "cell_type": "code",
   "execution_count": 24,
   "id": "c805a26d-e4b8-496f-90df-c506b696d829",
   "metadata": {},
   "outputs": [],
   "source": [
    "y_pred = lin_model.coef_*X + lin_model.intercept_"
   ]
  },
  {
   "cell_type": "code",
   "execution_count": 27,
   "id": "eb6cc2da-2369-4609-b517-23f0a3bbe2a1",
   "metadata": {},
   "outputs": [
    {
     "data": {
      "text/plain": [
       "0.9959058108622039"
      ]
     },
     "execution_count": 27,
     "metadata": {},
     "output_type": "execute_result"
    }
   ],
   "source": [
    "r2_score(Y,y_pred)"
   ]
  },
  {
   "cell_type": "code",
   "execution_count": 29,
   "id": "b7651ef1-6bc6-458c-b8ac-e7825c6f592b",
   "metadata": {},
   "outputs": [
    {
     "data": {
      "text/plain": [
       "0.07623324582874996"
      ]
     },
     "execution_count": 29,
     "metadata": {},
     "output_type": "execute_result"
    }
   ],
   "source": [
    "mean_squared_error(Y,y_pred)"
   ]
  },
  {
   "cell_type": "code",
   "execution_count": null,
   "id": "be38c14d-02dd-4171-8957-cb5d8a48b904",
   "metadata": {},
   "outputs": [],
   "source": []
  }
 ],
 "metadata": {
  "kernelspec": {
   "display_name": "Python 3",
   "language": "python",
   "name": "python3"
  },
  "language_info": {
   "codemirror_mode": {
    "name": "ipython",
    "version": 3
   },
   "file_extension": ".py",
   "mimetype": "text/x-python",
   "name": "python",
   "nbconvert_exporter": "python",
   "pygments_lexer": "ipython3",
   "version": "3.8.8"
  }
 },
 "nbformat": 4,
 "nbformat_minor": 5
}
