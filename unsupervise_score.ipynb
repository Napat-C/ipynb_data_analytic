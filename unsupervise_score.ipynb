{
 "cells": [
  {
   "cell_type": "code",
   "execution_count": 1,
   "id": "0fe008d0-629f-40c5-9baf-9b2e506619ff",
   "metadata": {},
   "outputs": [],
   "source": [
    "from sklearn.metrics import homogeneity_score, completeness_score"
   ]
  },
  {
   "cell_type": "code",
   "execution_count": 2,
   "id": "7876748e-c3ed-45eb-b6f1-8dea42c3f60c",
   "metadata": {},
   "outputs": [],
   "source": [
    "y_true = [0,0,0,1,1,1]\n",
    "y_predict = [0,1,1,2,2,2]"
   ]
  },
  {
   "cell_type": "code",
   "execution_count": 3,
   "id": "95ca5182-bc91-4fce-92fc-a67c77f20637",
   "metadata": {},
   "outputs": [],
   "source": [
    "h = homogeneity_score(y_true,y_predict)"
   ]
  },
  {
   "cell_type": "code",
   "execution_count": 4,
   "id": "6ee2d388-63cf-4a70-9423-cf790e997500",
   "metadata": {},
   "outputs": [
    {
     "data": {
      "text/plain": [
       "1.0"
      ]
     },
     "execution_count": 4,
     "metadata": {},
     "output_type": "execute_result"
    }
   ],
   "source": [
    "h"
   ]
  },
  {
   "cell_type": "code",
   "execution_count": 5,
   "id": "c7495b27-27ec-400f-aff0-5cc8ec2169ff",
   "metadata": {},
   "outputs": [
    {
     "data": {
      "text/plain": [
       "0.6853314789615865"
      ]
     },
     "execution_count": 5,
     "metadata": {},
     "output_type": "execute_result"
    }
   ],
   "source": [
    "completeness_score(y_true,y_predict)"
   ]
  },
  {
   "cell_type": "code",
   "execution_count": null,
   "id": "9773d796-3f57-41c8-a49a-ef9ba5e9f847",
   "metadata": {},
   "outputs": [],
   "source": []
  }
 ],
 "metadata": {
  "kernelspec": {
   "display_name": "Python 3 (ipykernel)",
   "language": "python",
   "name": "python3"
  },
  "language_info": {
   "codemirror_mode": {
    "name": "ipython",
    "version": 3
   },
   "file_extension": ".py",
   "mimetype": "text/x-python",
   "name": "python",
   "nbconvert_exporter": "python",
   "pygments_lexer": "ipython3",
   "version": "3.8.13"
  }
 },
 "nbformat": 4,
 "nbformat_minor": 5
}
